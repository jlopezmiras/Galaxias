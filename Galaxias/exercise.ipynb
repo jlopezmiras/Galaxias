{
 "cells": [
  {
   "cell_type": "code",
   "execution_count": 2,
   "metadata": {},
   "outputs": [],
   "source": [
    "import pandas as pd\n",
    "import numpy as np\n",
    "from astropy import units as u\n",
    "import matplotlib.pyplot as plt"
   ]
  },
  {
   "cell_type": "code",
   "execution_count": 66,
   "metadata": {},
   "outputs": [],
   "source": [
    "data = pd.read_csv(\"Disk_100pc_old.csv\")\n",
    "\n",
    "# Positions\n",
    "r = data['DIST_1000'].to_numpy() * u.pc\n",
    "RA = data['RA'].to_numpy() * u.deg\n",
    "DEC = data['DEC'].to_numpy() * u.deg\n",
    "\n",
    "RA = RA.to(u.rad)\n",
    "DEC = DEC.to(u.rad)\n",
    "\n",
    "\n",
    "# Proper motion and radial velocity\n",
    "pmRA = data['PMRA'].to_numpy() * u.marcsec / u.year\n",
    "pmDEC = data['PMDEC'].to_numpy() * u.marcsec / u.year\n",
    "vr = data['RV'].to_numpy() * u.km / u.s\n",
    "\n",
    "# fig, axs = plt.subplots(1,3, figsize=(20,5))\n",
    "# axs[0].hist(pmRA, bins=50)\n",
    "# axs[0].axvline(np.nanmean(pmRA.value))\n",
    "# axs[1].hist(pmDEC, bins=50)\n",
    "# axs[1].axvline(np.nanmean(pmDEC.value))\n",
    "# axs[2].hist(vr, bins=50)\n",
    "# axs[2].axvline(np.nanmean(vr.value))"
   ]
  },
  {
   "cell_type": "code",
   "execution_count": 67,
   "metadata": {},
   "outputs": [],
   "source": [
    "\n",
    "tRA = r * pmRA.to(u.arcsec / u.year) * np.cos(DEC)\n",
    "tDEC = r * pmDEC.to(u.arcsec / u.year)\n",
    "\n",
    "tRA = tRA.to(u.rad * u.km / u.second) \n",
    "tDEC = tDEC.to(u.rad * u.km / u.second) "
   ]
  },
  {
   "cell_type": "code",
   "execution_count": 68,
   "metadata": {},
   "outputs": [],
   "source": [
    "# Once we have the units we want, we drop the units\n",
    "r = r.value\n",
    "RA = RA.value\n",
    "DEC = DEC.value\n",
    "vr = vr.value\n",
    "tRA = tRA.value\n",
    "tDEC = tDEC.value"
   ]
  },
  {
   "cell_type": "code",
   "execution_count": 91,
   "metadata": {},
   "outputs": [],
   "source": [
    "xdot = np.zeros_like(vr)\n",
    "ydot = np.zeros_like(vr)\n",
    "zdot = np.zeros_like(vr)\n",
    "\n",
    "for i in range(len(RA)):\n",
    "    ra = RA[i]\n",
    "    dec = DEC[i]\n",
    "    to_cart_matrix = np.array([ [np.cos(dec) * np.cos(ra),  np.sin(dec) * np.cos(ra),   -np.sin(ra)],\n",
    "                                [np.cos(dec) * np.sin(ra),  np.sin(dec) * np.sin(ra),    np.cos(ra)],\n",
    "                                [np.sin(dec)             , -np.cos(dec)             ,    0         ]])\n",
    "\n",
    "    xdot[i], ydot[i], zdot[i] = np.dot(to_cart_matrix, np.array([vr[i], tDEC[i], tRA[i]]))"
   ]
  },
  {
   "cell_type": "code",
   "execution_count": 92,
   "metadata": {},
   "outputs": [
    {
     "name": "stdout",
     "output_type": "stream",
     "text": [
      "8.226726033348973 -8.101559864276846 -3.1855734956225343\n"
     ]
    }
   ],
   "source": [
    "usun = -np.nanmean(xdot)\n",
    "vsun = -np.nanmean(ydot)\n",
    "wsun = -np.nanmean(zdot)\n",
    "\n",
    "print(usun, vsun, wsun)"
   ]
  },
  {
   "cell_type": "code",
   "execution_count": null,
   "metadata": {},
   "outputs": [],
   "source": []
  }
 ],
 "metadata": {
  "kernelspec": {
   "display_name": "Python 3",
   "language": "python",
   "name": "python3"
  },
  "language_info": {
   "codemirror_mode": {
    "name": "ipython",
    "version": 3
   },
   "file_extension": ".py",
   "mimetype": "text/x-python",
   "name": "python",
   "nbconvert_exporter": "python",
   "pygments_lexer": "ipython3",
   "version": "3.10.12"
  }
 },
 "nbformat": 4,
 "nbformat_minor": 2
}
