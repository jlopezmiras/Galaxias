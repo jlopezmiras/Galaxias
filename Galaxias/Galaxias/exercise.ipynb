{
 "cells": [
  {
   "cell_type": "code",
   "execution_count": 36,
   "metadata": {},
   "outputs": [],
   "source": [
    "import pandas as pd\n",
    "import numpy as np\n",
    "import astropy.coordinates as coord\n",
    "from astropy import units as u\n",
    "import matplotlib.pyplot as plt"
   ]
  },
  {
   "cell_type": "code",
   "execution_count": 37,
   "metadata": {},
   "outputs": [],
   "source": [
    "data = pd.read_csv(\"Disk_100pc_old_gal_velocities.csv\")\n",
    "\n",
    "# Positions\n",
    "r = data['DIST_1000'].to_numpy() * u.pc\n",
    "RA = data['RA'].to_numpy() * u.deg\n",
    "DEC = data['DEC'].to_numpy() * u.deg\n",
    "\n",
    "RA = RA.to(u.rad)\n",
    "DEC = DEC.to(u.rad)\n",
    "\n",
    "\n",
    "# Proper motion and radial velocity\n",
    "pmRA = data['PMRA'].to_numpy() * u.marcsec / u.year\n",
    "pmDEC = data['PMDEC'].to_numpy() * u.marcsec / u.year\n",
    "vr = data['RV'].to_numpy() * u.km / u.s\n",
    "\n",
    "# Change velocities to galactocentric frame\n",
    "gal_vel = data['(u,v,w)'].to_numpy()"
   ]
  },
  {
   "cell_type": "code",
   "execution_count": 48,
   "metadata": {},
   "outputs": [
    {
     "name": "stdout",
     "output_type": "stream",
     "text": [
      "9.962144 23.03157 7.8910375\n"
     ]
    }
   ],
   "source": [
    "u = np.zeros_like(gal_vel, dtype=np.float32)\n",
    "v = np.zeros_like(gal_vel, dtype=np.float32)\n",
    "w = np.zeros_like(gal_vel, dtype=np.float32)\n",
    "\n",
    "for i,vel in enumerate(gal_vel):\n",
    "    u[i] = float(vel.split(', ')[0][1:])\n",
    "    v[i] = float(vel.split(', ')[1])\n",
    "    w[i] = float(vel.split(', ')[2][:-1])\n",
    "\n",
    "usun = -np.nanmean(u)\n",
    "vsun = -np.nanmean(v)\n",
    "wsun = -np.nanmean(w)\n",
    "\n",
    "print(usun, vsun, wsun)\n"
   ]
  },
  {
   "cell_type": "code",
   "execution_count": 38,
   "metadata": {},
   "outputs": [],
   "source": [
    "\n",
    "tRA = r * pmRA\n",
    "tDEC = r * pmDEC\n",
    "\n",
    "tRA = tRA.to(u.rad * u.km / u.second) \n",
    "tDEC = tDEC.to(u.rad * u.km / u.second) "
   ]
  },
  {
   "cell_type": "code",
   "execution_count": 39,
   "metadata": {},
   "outputs": [],
   "source": [
    "# Once we have the units we want, we drop the units\n",
    "r = r.value\n",
    "RA = RA.value\n",
    "DEC = DEC.value\n",
    "vr = vr.value\n",
    "tRA = tRA.value\n",
    "tDEC = tDEC.value"
   ]
  },
  {
   "cell_type": "code",
   "execution_count": 40,
   "metadata": {},
   "outputs": [],
   "source": [
    "xdot = np.zeros_like(vr)\n",
    "ydot = np.zeros_like(vr)\n",
    "zdot = np.zeros_like(vr)\n",
    "\n",
    "for i in range(len(RA)):\n",
    "    ra = RA[i]\n",
    "    dec = DEC[i]\n",
    "    to_cart_matrix =  np.array([[-np.sin(ra), -np.cos(ra) * np.sin(dec), np.cos(ra) * np.cos(dec)],\n",
    "                               [np.cos(ra) , -np.sin(ra) * np.sin(dec), np.sin(ra) * np.cos(dec)],\n",
    "                               [0.         , np.cos(dec)              , np.sin(dec)             ]])\n",
    "\n",
    "    xdot[i], ydot[i], zdot[i] = np.dot(to_cart_matrix, np.array([tRA[i], tDEC[i], vr[i]]))"
   ]
  },
  {
   "cell_type": "code",
   "execution_count": 41,
   "metadata": {},
   "outputs": [
    {
     "name": "stdout",
     "output_type": "stream",
     "text": [
      "3.9866532395204906 -20.509459906610747 15.982327154546583\n"
     ]
    }
   ],
   "source": [
    "usun = -np.nanmean(xdot)\n",
    "vsun = -np.nanmean(ydot)\n",
    "wsun = -np.nanmean(zdot)\n",
    "\n",
    "print(usun, vsun, wsun)"
   ]
  },
  {
   "cell_type": "code",
   "execution_count": 53,
   "metadata": {},
   "outputs": [],
   "source": [
    "M = np.cov(np.array([u, v, w]))\n",
    "Rij = M / (M[0,0] * M[1,1] * M[2,2])"
   ]
  },
  {
   "cell_type": "code",
   "execution_count": 55,
   "metadata": {},
   "outputs": [
    {
     "data": {
      "text/plain": [
       "2.680858512637754e-18"
      ]
     },
     "execution_count": 55,
     "metadata": {},
     "output_type": "execute_result"
    }
   ],
   "source": [
    "R = np.linalg.det(Rij)"
   ]
  },
  {
   "cell_type": "code",
   "execution_count": 64,
   "metadata": {},
   "outputs": [],
   "source": [
    "def cofactor(A):\n",
    "    \"\"\"\n",
    "    Calculate cofactor matrix of A\n",
    "    \"\"\"\n",
    "    sel_rows = np.ones(A.shape[0],dtype=bool)\n",
    "    sel_columns = np.ones(A.shape[1],dtype=bool)\n",
    "    CO = np.zeros_like(A)\n",
    "    sgn_row = 1\n",
    "    for row in range(A.shape[0]):\n",
    "        # Unselect current row\n",
    "        sel_rows[row] = False\n",
    "        sgn_col = 1\n",
    "        for col in range(A.shape[1]):\n",
    "            # Unselect current column\n",
    "            sel_columns[col] = False\n",
    "            # Extract submatrix\n",
    "            MATij = A[sel_rows][:,sel_columns]\n",
    "            CO[row,col] = sgn_row*sgn_col*np.linalg.det(MATij)\n",
    "            # Reselect current column\n",
    "            sel_columns[col] = True\n",
    "            sgn_col = -sgn_col\n",
    "        sel_rows[row] = True\n",
    "        # Reselect current row\n",
    "        sgn_row = -sgn_row\n",
    "    return CO\n",
    "\n",
    "mat = np.array([[1,2,3],[4,5,6],[7,8,9]])\n",
    "\n",
    "\n",
    "#cofactor(mat)"
   ]
  },
  {
   "cell_type": "code",
   "execution_count": null,
   "metadata": {},
   "outputs": [],
   "source": []
  }
 ],
 "metadata": {
  "kernelspec": {
   "display_name": "Python 3",
   "language": "python",
   "name": "python3"
  },
  "language_info": {
   "codemirror_mode": {
    "name": "ipython",
    "version": 3
   },
   "file_extension": ".py",
   "mimetype": "text/x-python",
   "name": "python",
   "nbconvert_exporter": "python",
   "pygments_lexer": "ipython3",
   "version": "3.10.12"
  }
 },
 "nbformat": 4,
 "nbformat_minor": 2
}
